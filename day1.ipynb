{
 "cells": [
  {
   "cell_type": "markdown",
   "metadata": {},
   "source": [
    "# Python Course - Didact 2023"
   ]
  },
  {
   "cell_type": "code",
   "execution_count": 1,
   "metadata": {},
   "outputs": [
    {
     "name": "stdout",
     "output_type": "stream",
     "text": [
      "44\n",
      "40\n",
      "84\n",
      "21.0\n",
      "14\n"
     ]
    }
   ],
   "source": [
    "# Computation\n",
    "\n",
    "print(42 + 2)\n",
    "print(42 - 2)\n",
    "print(42 * 2)\n",
    "print(42 / 2)\n",
    "\n",
    "print(2 + (3 * 4))\n"
   ]
  },
  {
   "cell_type": "code",
   "execution_count": 1,
   "metadata": {},
   "outputs": [
    {
     "name": "stdout",
     "output_type": "stream",
     "text": [
      "helloworld\n"
     ]
    }
   ],
   "source": [
    "# Strings\n",
    "\n",
    "print(\"hello\"+\"world\")\n"
   ]
  },
  {
   "cell_type": "code",
   "execution_count": 2,
   "metadata": {},
   "outputs": [
    {
     "name": "stdout",
     "output_type": "stream",
     "text": [
      "44.44444444444444\n"
     ]
    }
   ],
   "source": [
    "# First Project - Heat\n",
    "\n",
    "fahrenheit = 112\n",
    "celsius = (fahrenheit - 32) * 5/9\n",
    "print(celsius)"
   ]
  },
  {
   "cell_type": "code",
   "execution_count": 3,
   "metadata": {},
   "outputs": [
    {
     "name": "stdout",
     "output_type": "stream",
     "text": [
      "hellohellohellohello\n"
     ]
    }
   ],
   "source": [
    "# String Multiply\n",
    "\n",
    "print(\"hello\"*4)"
   ]
  },
  {
   "cell_type": "code",
   "execution_count": 4,
   "metadata": {},
   "outputs": [
    {
     "name": "stdout",
     "output_type": "stream",
     "text": [
      "Gib eine Zahl ein die du in Grad umwandeln willst:\n",
      "112.0 F sind  44.44444444444444 °C\n"
     ]
    }
   ],
   "source": [
    "print(\"Gib eine Zahl ein die du in Grad umwandeln willst:\")\n",
    "f_input = input()\n",
    "\n",
    "fahrenheit = float(f_input)\n",
    "\n",
    "degree = (fahrenheit - 32) * 5/9\n",
    "\n",
    "print(fahrenheit, \"F sind \", degree, \"°C\")"
   ]
  }
 ],
 "metadata": {
  "kernelspec": {
   "display_name": "Python 3",
   "language": "python",
   "name": "python3"
  },
  "language_info": {
   "codemirror_mode": {
    "name": "ipython",
    "version": 3
   },
   "file_extension": ".py",
   "mimetype": "text/x-python",
   "name": "python",
   "nbconvert_exporter": "python",
   "pygments_lexer": "ipython3",
   "version": "3.8.10"
  },
  "orig_nbformat": 4
 },
 "nbformat": 4,
 "nbformat_minor": 2
}
