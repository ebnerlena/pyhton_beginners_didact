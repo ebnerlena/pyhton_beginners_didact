{
 "cells": [
  {
   "cell_type": "markdown",
   "metadata": {},
   "source": [
    "# Python Course - Didact 2023"
   ]
  },
  {
   "cell_type": "code",
   "execution_count": 1,
   "metadata": {},
   "outputs": [
    {
     "name": "stdout",
     "output_type": "stream",
     "text": [
      "44\n",
      "40\n",
      "84\n",
      "21.0\n",
      "14\n"
     ]
    }
   ],
   "source": [
    "# Computation\n",
    "\n",
    "print(42 + 2)\n",
    "print(42 - 2)\n",
    "print(42 * 2)\n",
    "print(42 / 2)\n",
    "\n",
    "print(2 + (3 * 4))\n"
   ]
  },
  {
   "cell_type": "code",
   "execution_count": 1,
   "metadata": {},
   "outputs": [
    {
     "name": "stdout",
     "output_type": "stream",
     "text": [
      "helloworld\n"
     ]
    }
   ],
   "source": [
    "# Strings\n",
    "\n",
    "print(\"hello\"+\"world\")\n"
   ]
  },
  {
   "cell_type": "code",
   "execution_count": 2,
   "metadata": {},
   "outputs": [
    {
     "name": "stdout",
     "output_type": "stream",
     "text": [
      "44.44444444444444\n"
     ]
    }
   ],
   "source": [
    "# First Project - Heat\n",
    "\n",
    "fahrenheit = 112\n",
    "celsius = (fahrenheit - 32) * 5/9\n",
    "print(celsius)"
   ]
  },
  {
   "cell_type": "code",
   "execution_count": 3,
   "metadata": {},
   "outputs": [
    {
     "name": "stdout",
     "output_type": "stream",
     "text": [
      "hellohellohellohello\n"
     ]
    }
   ],
   "source": [
    "# String Multiply\n",
    "\n",
    "print(\"hello\"*4)"
   ]
  },
  {
   "cell_type": "code",
   "execution_count": 4,
   "metadata": {},
   "outputs": [
    {
     "name": "stdout",
     "output_type": "stream",
     "text": [
      "Gib eine Zahl ein die du in Grad umwandeln willst:\n",
      "112.0 F sind  44.44444444444444 °C\n"
     ]
    }
   ],
   "source": [
    "print(\"Gib eine Zahl ein die du in Grad umwandeln willst:\")\n",
    "f_input = input()\n",
    "\n",
    "fahrenheit = float(f_input)\n",
    "\n",
    "degree = (fahrenheit - 32) * 5/9\n",
    "\n",
    "print(fahrenheit, \"F sind \", degree, \"°C\")"
   ]
  },
  {
   "cell_type": "code",
   "execution_count": 3,
   "metadata": {},
   "outputs": [
    {
     "name": "stdout",
     "output_type": "stream",
     "text": [
      "x\n",
      "after\n"
     ]
    }
   ],
   "source": [
    "import sys\n",
    "\n",
    "try:\n",
    "    print(\"x\")\n",
    "    #raise Exception(\"My Exception\")\n",
    "except Exception as e:\n",
    "    print(\"Exception: \", e)\n",
    "    sys.exit()\n",
    "\n",
    "print(\"after\")"
   ]
  },
  {
   "cell_type": "code",
   "execution_count": 8,
   "metadata": {},
   "outputs": [
    {
     "name": "stdout",
     "output_type": "stream",
     "text": [
      "Bitte gibt ein Gewicht in kg ein\n",
      "Bitte gibt die Größe in m ein z.b. 1.8\n",
      "Your BMI is:  18.52\n",
      "nice 👍😊\n"
     ]
    }
   ],
   "source": [
    "# BMI\n",
    "print(\"Bitte gibt ein Gewicht in kg ein\")\n",
    "weight = float(input())\n",
    "\n",
    "print(\"Bitte gibt die Größe in m ein z.b. 1.8\")\n",
    "height = float(input())\n",
    "\n",
    "bmi = weight / (height * height)\n",
    "\n",
    "print(\"Your BMI is: \", round(bmi,2))\n",
    "\n",
    "if(bmi < 18.5):\n",
    "    print(\"too small 😢\")\n",
    "elif(bmi < 24.9):\n",
    "    print(\"nice 👍😊\")\n",
    "else:\n",
    "    print(\"too high 😢\")\n"
   ]
  }
 ],
 "metadata": {
  "kernelspec": {
   "display_name": "Python 3",
   "language": "python",
   "name": "python3"
  },
  "language_info": {
   "codemirror_mode": {
    "name": "ipython",
    "version": 3
   },
   "file_extension": ".py",
   "mimetype": "text/x-python",
   "name": "python",
   "nbconvert_exporter": "python",
   "pygments_lexer": "ipython3",
   "version": "3.8.10"
  },
  "orig_nbformat": 4
 },
 "nbformat": 4,
 "nbformat_minor": 2
}
